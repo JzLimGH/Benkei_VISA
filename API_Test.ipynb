{
 "cells": [
  {
   "cell_type": "code",
   "execution_count": 1,
   "metadata": {},
   "outputs": [],
   "source": [
    "import requests\n",
    "from PIL import Image\n",
    "from io import BytesIO\n"
   ]
  },
  {
   "cell_type": "code",
   "execution_count": 9,
   "metadata": {},
   "outputs": [
    {
     "name": "stdout",
     "output_type": "stream",
     "text": [
      "200\n"
     ]
    }
   ],
   "source": [
    "character_name_input = 'Jonneon'\n",
    "response = requests.get(f\"https://api.maplestory.gg/v2/public/character/gms/{character_name_input}\")\n",
    "if response.status_code != 200:\n",
    "    print(\"Error Character not found. VISA rejected.\")"
   ]
  },
  {
   "cell_type": "code",
   "execution_count": 29,
   "metadata": {},
   "outputs": [
    {
     "name": "stdout",
     "output_type": "stream",
     "text": [
      "Night Walker 280 9000 Kronos\n"
     ]
    },
    {
     "data": {
      "image/png": "[encoded data removed]",
      "text/plain": [
       "<PIL.PngImagePlugin.PngImageFile image mode=RGBA size=96x96>"
      ]
     },
     "execution_count": 29,
     "metadata": {},
     "output_type": "execute_result"
    }
   ],
   "source": [
    "#Guild Main requirements\n",
    "level_req = 250\n",
    "legion_req = 3000\n",
    "server_req = 'Kronos'\n",
    "\n",
    "#Store main traits to display for validation\n",
    "#Name\n",
    "Class = response.json()['CharacterData']['Class']\n",
    "Level = response.json()['CharacterData']['Level']\n",
    "Legion = response.json()['CharacterData']['LegionLevel']\n",
    "Server = response.json()['CharacterData']['Server']\n",
    "print(Class, Level, Legion, Server)\n",
    "Image_link = response.json()['CharacterData']['CharacterImageURL']\n",
    "Image_response = requests.get(Image_link)\n",
    "img = Image.open(BytesIO(Image_response.content))\n",
    "img\n",
    "if Level < level_req:\n",
    "    print(\"Character Level does not meet requirements: {Level} > {level_req}\")\n",
    "if Legion < legion_req:\n",
    "    print(\"Legion does not meet requirements: {Legion} >= {legion_req}\")\n",
    "if Server != server_req:\n",
    "    print(\"Wrong Server. Benkei is on {server_req}\")"
   ]
  }
 ],
 "metadata": {
  "kernelspec": {
   "display_name": "Python 3",
   "language": "python",
   "name": "python3"
  },
  "language_info": {
   "codemirror_mode": {
    "name": "ipython",
    "version": 3
   },
   "file_extension": ".py",
   "mimetype": "text/x-python",
   "name": "python",
   "nbconvert_exporter": "python",
   "pygments_lexer": "ipython3",
   "version": "3.11.4"
  },
  "orig_nbformat": 4
 },
 "nbformat": 4,
 "nbformat_minor": 2
}
